{
 "cells": [
  {
   "cell_type": "markdown",
   "metadata": {},
   "source": [
    "# Assignment 3a: Revision of block 3\n",
    "\n",
    "## Due: Friday the 1st of October 2021 14:30.\n",
    "\n",
    "\n",
    "* Please submit your assignment (notebooks of parts 3a and 3b + Python modules) as **a single .zip file** using Canvas (Assignments --> Assignment 3). Please put the notebooks for Assignment 3a and 3b as well as the Python modules (files ending with .py) in one folder, which you call ASSIGNMENT_3_FIRSTNAME_LASTNAME. Please zip this folder and upload it as your submission.\n",
    "\n",
    "* Please name your zip file with the following naming convention: ASSIGNMENT_3_FIRSTNAME_LASTNAME.zip\n",
    "\n",
    "**IMPORTANTE NOTE**:\n",
    "* The students who follow the Bachelor version of this course, i.e., the course Introduction to Python for Humanities and Social Sciences (L_AABAALG075) as part of the minor Digital Humanities, do **not have to do Exercises 3 and 4 of Assignment 3b**\n",
    "* The other students, i.e., who follow the Master version of  course, which is Programming in Python for Text Analysis (L_AAMPLIN021), are required to **do Exercises 3 and 4 of Assignment 3b**\n",
    "\n",
    "If you have **questions** about this topic, please contact us **(cltl.python.course@gmail.com)**. Questions and answers will be collected on Piazza, so please check if your question has already been answered first.\n",
    "\n",
    "\n",
    "In this block, we covered a lot of ground:\n",
    "\n",
    "* Chapter 12 - Importing external modules \n",
    "* Chapter 13 - Working with Python scripts\n",
    "* Chapter 14 - Reading and writing text files\n",
    "* Chapter 15 - Off to analyzing text \n",
    "\n",
    "\n",
    "In this assignment, you will first complete a number of small exercises about each chapter to make sure you are familiar with the most important concepts. In the second part of the assignment, you will apply your newly acquired skills to write your very own text processing program (ASSIGNMENT-3b) :-). But don't worry, there will be instructions and hints along the way. \n",
    "\n",
    "\n",
    "**Can I use external modules other than the ones treated so far?**\n",
    "\n",
    "For now, please try to avoid it. All the exercises can be solved with what we have covered in block I, II, and III. \n"
   ]
  },
  {
   "cell_type": "markdown",
   "metadata": {},
   "source": [
    "## Functions & scope"
   ]
  },
  {
   "cell_type": "markdown",
   "metadata": {},
   "source": [
    "### Excercise 1:\n",
    "\n",
    "Define a function called `split_sort_text` which takes one positional parameter called **text** (a string).\n",
    "\n",
    "The function:\n",
    "* splits the string on a space character, i.e., ' '\n",
    "* returns all the unique words in alphabetical order as a list.\n",
    "\n",
    "* Hint 1: There is a specific python container which does not allow for duplicates and simply removes them. Use this one. \n",
    "* Hint 2: There is a function which sorts items in an iterable called 'sorted'. Look at the documentation to see how it is used. \n",
    "* Hint 3: Don't forget to write a docstring. Please make sure that the docstring generally explains with the input is, what the function does, and what the function returns. If you want, but this is not needed to receive full points, you can use [reStructuredText](http://docutils.sourceforge.net/rst.html)."
   ]
  },
  {
   "cell_type": "code",
   "execution_count": 7,
   "metadata": {},
   "outputs": [
    {
     "data": {
      "text/plain": [
       "['A', 'I', 'a', 'am', 'hello', 'henk']"
      ]
     },
     "execution_count": 7,
     "metadata": {},
     "output_type": "execute_result"
    }
   ],
   "source": [
    "def split_sort_text(text):\n",
    "    \"\"\"\n",
    "    Please provide a string with words divided by spaces. The function will return a list. \n",
    "    This function can be used to find unique words inside of a string and they will be returned alphabetically.\n",
    "\n",
    "    \"\"\"\n",
    "    split = text.split(' ')\n",
    "    unique_words = set(split)\n",
    "    unique_sorted = sorted(unique_words)\n",
    "    return unique_sorted\n",
    "\n",
    "split_sort_text('a a A A hello I am henk')"
   ]
  },
  {
   "cell_type": "markdown",
   "metadata": {},
   "source": [
    "## Working with external modules"
   ]
  },
  {
   "cell_type": "markdown",
   "metadata": {},
   "source": [
    "### Exercise 2\n",
    "NLTK offers a way of using WordNet in Python. Do some research (using google, because quite frankly, that's what we do very often) and see if you can find out how to import it. WordNet is a computational lexicon which organizes words according to their senses (collected in synsets). See if you can print all the **synset definitions** of the lemma **dog**.\n",
    "\n",
    "Make sure you have run the following cell to make sure you have installed WordNet:"
   ]
  },
  {
   "cell_type": "code",
   "execution_count": 1,
   "metadata": {},
   "outputs": [],
   "source": [
    "import nltk\n",
    "# uncomment the following line to download material including WordNet\n",
    "# nltk.download('book')"
   ]
  },
  {
   "cell_type": "code",
   "execution_count": 2,
   "metadata": {},
   "outputs": [
    {
     "name": "stdout",
     "output_type": "stream",
     "text": [
      "a member of the genus Canis (probably descended from the common wolf) that has been domesticated by man since prehistoric times; occurs in many breeds \n",
      "\n",
      "a dull unattractive unpleasant girl or woman \n",
      "\n",
      "informal term for a man \n",
      "\n",
      "someone who is morally reprehensible \n",
      "\n",
      "a smooth-textured sausage of minced beef or pork usually smoked; often served on a bread roll \n",
      "\n",
      "a hinged catch that fits into a notch of a ratchet to move a wheel forward or prevent it from moving backward \n",
      "\n",
      "metal supports for logs in a fireplace \n",
      "\n",
      "go after with the intent to catch \n",
      "\n"
     ]
    }
   ],
   "source": [
    "from nltk.corpus import wordnet as wn\n",
    "all_dog_synsets = wn.synsets('dog')\n",
    "\n",
    "for i in all_dog_synsets:\n",
    "    print(i.definition(),'\\n')"
   ]
  },
  {
   "cell_type": "markdown",
   "metadata": {},
   "source": [
    "## Working with python scripts"
   ]
  },
  {
   "cell_type": "markdown",
   "metadata": {},
   "source": [
    "### Exercise  3\n",
    "\n",
    "#### a.) Define a function called `count`, which determines how often each word occurs in a string. Do not use NLTK just yet. Find a way to test it. \n",
    "\n",
    "* Write a helper-function called `preprocess`, which removes the punctuation specified by the user, and returns the same string without the unwanted characters. You call the function `preprocess` inside the `count` function.\n",
    "\n",
    "* Remember that there are string methods that you can use to get rid of unwanted characters. Test the `preprocess` function using the following string `'this is a (tricky) test'`.\n",
    "\n",
    "* Remember how we used dictionaries to count words? If not, have a look at Chapter 10 - Dictionaries. \n",
    "\n",
    "* make sure you split the string on a space character ' '. You loop over the list to count the words.\n",
    "\n",
    "* Test your function using an example string, which will tell you whether it fulfills the requirements (remove punctuation, split, count). You will get a point for good testing.\n",
    "\n",
    "#### b.) Create a python script \n",
    "\n",
    "Use your editor to create a Python script called **count_words.py**. Place the function definition of the **count** function in **count_words.py**. Also put a function call of the **count** function in this file to test it. Place your helper function definition, i.e., **preprocess**, in a separate script called **utils_3a.py**. Import your helper function **preprocess** into count_words.py. Test whether everything works as expected by calling the script count_words.py from the terminal.\n",
    "\n",
    "The function **preprocess** preprocesses the text by removing characters that are unwanted by the user. **preprocess** is called within the **count** function and hence builds upon the output from the preprocess function and creates a dictionary in which the key is a word and the value is the frequency of the word.\n",
    "\n",
    "**Please submit these scripts together with the other notebooks**.\n",
    "\n",
    "Don't forget to add docstrings to your functions. "
   ]
  },
  {
   "cell_type": "code",
   "execution_count": 3,
   "metadata": {},
   "outputs": [
    {
     "data": {
      "text/plain": [
       "'this is a tricky test'"
      ]
     },
     "execution_count": 3,
     "metadata": {},
     "output_type": "execute_result"
    }
   ],
   "source": [
    "def preprocess(text, punctutation):# = {'\\n', ',', '.', '\"'}):\n",
    "    for i in punctutation:\n",
    "        text = text.replace(i,'')\n",
    "    return str(text)\n",
    "\n",
    "\n",
    "# the string which consists  of which punctuation to look for is\n",
    "# taken from https://www.programiz.com/python-programming/examples/remove-punctuation\n",
    "\n",
    "punctuation = '''!()-[]{};:'\"\\,<>./?@#$%^&*_~'''\n",
    "preprocess('this is a (tricky) test', punctuation)"
   ]
  },
  {
   "cell_type": "code",
   "execution_count": 4,
   "metadata": {},
   "outputs": [
    {
     "name": "stdout",
     "output_type": "stream",
     "text": [
      "{'hello': 1, 'this': 1, 'is': 1, 'a': 1, 'tricky': 1, 'test': 1}\n"
     ]
    }
   ],
   "source": [
    "def count(clean_string):\n",
    "    \"\"\"\n",
    "    TODO DOCSTRING\n",
    "    \"\"\"\n",
    "    clean_list_of_string = clean_string.split()\n",
    "    counter_dict = {}\n",
    "    for word in clean_list_of_string:\n",
    "        if word in counter_dict:\n",
    "            counter_dict[word] +=1\n",
    "        else:\n",
    "            counter_dict[word] = 1\n",
    "    return counter_dict\n",
    "\n",
    "\n",
    "clean_text = preprocess('he:l:;lo....,,,, t...his is a (tricky) test\"\"\"\"', punctuation)\n",
    "print(count(clean_text))"
   ]
  },
  {
   "cell_type": "markdown",
   "metadata": {},
   "source": [
    "## Dealing with text files"
   ]
  },
  {
   "cell_type": "markdown",
   "metadata": {},
   "source": [
    "### Exercise 4\n",
    "\n",
    "**Playing with lyrics**\n",
    "\n",
    "a.) Write a function called `load_text`, which opens and reads a file and returns the text in the file. It should have the file path as a parameter. Test it by loading this file: ../Data/lyrics/walrus.txt\n",
    "\n",
    "* Hint: remember it is best practice to use a context manager\n",
    "* Hint: **FileNotFoundError**: This means that the path you provide does not lead to an existing file on your computer. Please carefully study Chapter 14. Please determine where the notebook or Python module that you are working with is located on your computer. Try to determine where Python is looking if you provide a path such as “../Data/lyrics/walrus.txt”. Try to go from your notebook to the location on your computer where Python is trying to find the file. One tip: if you did not store the Assignments notebooks 3a and 3b in the folder “Assignments”, you would get this error.\n",
    "\n",
    "b.) Write a function called `replace_walrus`, which takes lyrics as input and replaces every instance of 'walrus' by 'hippo' (make sure to account for upper and lower case - it is fine to transform everything to lower case). The function should write the new version of the song to a file called 'walrus_hippo.txt and stored in ../Data/lyrics. \n",
    "\n",
    "Don't forget to add docstrings to your functions. "
   ]
  },
  {
   "cell_type": "code",
   "execution_count": 7,
   "metadata": {},
   "outputs": [
    {
     "name": "stdout",
     "output_type": "stream",
     "text": [
      "\"I Am The Walrus\" (\"Magical Mystery Tour\" Version)  I am he As you are he As you are me And we are all together  See how they run Like pigs from a gun See how they fly I'm crying  Sitting on a cornflake Waiting for the van to come Corporation tee shirt Stupid bloody Tuesday Man, you been a naughty boy You let your face grow long  I am the eggman (Ooh) They are the eggmen, (Ooh) I am the walrus Goo goo g' joob  Mister city p'liceman sitting pretty Little p'licemen in a row See how they fly Like Lucy in the sky See how they run I'm crying I'm crying, I'm crying, I'm crying  Yellow matter custard Dripping from a dead dog's eye Crabalocker fishwife pornographic priestess Boy you been a naughty girl You let your knickers down  I am the eggman (Ooh) They are the eggmen (Ooh) I am the walrus Goo goo g' joob  Sitting in an English Garden waiting for the sun If the sun don't come You get a tan from standing in the English rain  I am the eggman They are the eggmen I am the walrus Goo goo g' joob g' goo goo g' joob  Expert texpert choking smokers Don't you think the joker laughs at you? See how they smile Like pigs in a sty, see how they snied I'm crying  Semolina pilchards Climbing up the Eiffel Tower Element'ry penguin singing Hare Krishna Man, you should have seen them kicking Edgar Allan Poe  I am the eggman (Ooh) They are the eggmen (Ooh) I am the walrus Goo goo g' joob Goo goo g' joob G' goo goo g' joob Goo goo g' joob, goo goo g' goo g' goo goo g' joob joob Joob joob...\n"
     ]
    }
   ],
   "source": [
    "def load_text(filepath):\n",
    "    \"\"\"\n",
    "    TODO DOCSTRING\n",
    "    \"\"\"\n",
    "    with open(filepath, 'r') as opened_file:\n",
    "        lines = opened_file.read().replace(\"\\n\",\" \")\n",
    "    return lines\n",
    "\n",
    "\n",
    "    \n",
    "    \n",
    "    \n",
    "    \n",
    "    \n",
    "walrus = load_text('../../Data/lyrics/walrus.txt')\n",
    "print(walrus)"
   ]
  },
  {
   "cell_type": "code",
   "execution_count": 8,
   "metadata": {},
   "outputs": [
    {
     "name": "stdout",
     "output_type": "stream",
     "text": [
      "\"i am the hippo\" (\"magical mystery tour\" version)  i am he as you are he as you are me and we are all together  see how they run like pigs from a gun see how they fly i'm crying  sitting on a cornflake waiting for the van to come corporation tee shirt stupid bloody tuesday man, you been a naughty boy you let your face grow long  i am the eggman (ooh) they are the eggmen, (ooh) i am the hippo goo goo g' joob  mister city p'liceman sitting pretty little p'licemen in a row see how they fly like lucy in the sky see how they run i'm crying i'm crying, i'm crying, i'm crying  yellow matter custard dripping from a dead dog's eye crabalocker fishwife pornographic priestess boy you been a naughty girl you let your knickers down  i am the eggman (ooh) they are the eggmen (ooh) i am the hippo goo goo g' joob  sitting in an english garden waiting for the sun if the sun don't come you get a tan from standing in the english rain  i am the eggman they are the eggmen i am the hippo goo goo g' joob g' goo goo g' joob  expert texpert choking smokers don't you think the joker laughs at you? see how they smile like pigs in a sty, see how they snied i'm crying  semolina pilchards climbing up the eiffel tower element'ry penguin singing hare krishna man, you should have seen them kicking edgar allan poe  i am the eggman (ooh) they are the eggmen (ooh) i am the hippo goo goo g' joob goo goo g' joob g' goo goo g' joob goo goo g' joob, goo goo g' goo g' goo goo g' joob joob joob joob...\n"
     ]
    }
   ],
   "source": [
    "def replace_walrus(lyrics):\n",
    "    \"\"\"\n",
    "    TODO Docstring\n",
    "    \"\"\"\n",
    "    lyrics_lower = lyrics.lower()\n",
    "    lyrics_hippo = lyrics_lower.replace('walrus','hippo')\n",
    "    return lyrics_hippo\n",
    "\n",
    "\n",
    "hippo = replace_walrus(load_text('../../Data/lyrics/walrus.txt'))\n",
    "print(hippo)"
   ]
  },
  {
   "cell_type": "markdown",
   "metadata": {},
   "source": [
    "## Analyzing text with nltk"
   ]
  },
  {
   "cell_type": "markdown",
   "metadata": {},
   "source": [
    "### Exercise 5\n",
    "\n",
    "**Building a simple NLP pipeline**\n",
    "\n",
    "For this exercise, you will need NLTK. Don't forget to import it. \n",
    "\n",
    "Write a function called `tag_text`, which takes raw text as input and returns the tagged text. To do this, make sure you follow the steps below:\n",
    "\n",
    "* Tokenize the text. \n",
    "\n",
    "* Perform part-of-speech tagging on the list of tokens. \n",
    "\n",
    "* Return the tagged text\n",
    "\n",
    "\n",
    "Then test your function using the text snipped below (`test_text`) as input.\n",
    "\n",
    "Please note that the tags may not be correct and that this is not a mistake on your end, but simply NLP tools not being perfect."
   ]
  },
  {
   "cell_type": "code",
   "execution_count": 10,
   "metadata": {},
   "outputs": [],
   "source": [
    "test_text = \"\"\"Shall I compare thee to a summer's day?\n",
    "Thou art more lovely and more temperate:\n",
    "Rough winds do shake the darling buds of May,\n",
    "And summer's lease hath all too short a date:\"\"\""
   ]
  },
  {
   "cell_type": "code",
   "execution_count": 12,
   "metadata": {},
   "outputs": [
    {
     "name": "stdout",
     "output_type": "stream",
     "text": [
      "[('Shall', 'NN'), ('I', 'PRP'), ('compare', 'VBP'), ('thee', 'JJ'), ('to', 'TO'), ('a', 'DT'), ('summer', 'NN'), (\"'s\", 'POS'), ('day', 'NN'), ('?', '.'), ('Thou', 'NNP'), ('art', 'RB'), ('more', 'RBR'), ('lovely', 'RB'), ('and', 'CC'), ('more', 'JJR'), ('temperate', 'NN'), (':', ':'), ('Rough', 'NNP'), ('winds', 'NNS'), ('do', 'VBP'), ('shake', 'VB'), ('the', 'DT'), ('darling', 'VBG'), ('buds', 'NNS'), ('of', 'IN'), ('May', 'NNP'), (',', ','), ('And', 'CC'), ('summer', 'NN'), (\"'s\", 'POS'), ('lease', 'NN'), ('hath', 'NN'), ('all', 'DT'), ('too', 'RB'), ('short', 'JJ'), ('a', 'DT'), ('date', 'NN'), (':', ':')]\n"
     ]
    }
   ],
   "source": [
    "def tag_text(raw_text):\n",
    "    import nltk\n",
    "    \"\"\"\n",
    "    TODO DOCSTRING\n",
    "    \"\"\"\n",
    "    tokens = nltk.word_tokenize(raw_text)\n",
    "    pos_tags = nltk.pos_tag(tokens)\n",
    "    return pos_tags\n",
    "\n",
    "print(tag_text(test_text))"
   ]
  },
  {
   "cell_type": "markdown",
   "metadata": {},
   "source": [
    "## Python knowledge"
   ]
  },
  {
   "cell_type": "markdown",
   "metadata": {},
   "source": [
    "### Exercise 6\n",
    "\n",
    "6.a) Explain in your own words the difference between the global and the local scope."
   ]
  },
  {
   "cell_type": "markdown",
   "metadata": {},
   "source": [
    "[answer]"
   ]
  },
  {
   "cell_type": "markdown",
   "metadata": {},
   "source": [
    "6.b) What is the difference between the modes 'w' and 'a' when opening a file?"
   ]
  },
  {
   "cell_type": "markdown",
   "metadata": {},
   "source": [
    "[answer]"
   ]
  },
  {
   "cell_type": "code",
   "execution_count": null,
   "metadata": {},
   "outputs": [],
   "source": []
  }
 ],
 "metadata": {
  "kernelspec": {
   "display_name": "Python 3",
   "language": "python",
   "name": "python3"
  },
  "language_info": {
   "codemirror_mode": {
    "name": "ipython",
    "version": 3
   },
   "file_extension": ".py",
   "mimetype": "text/x-python",
   "name": "python",
   "nbconvert_exporter": "python",
   "pygments_lexer": "ipython3",
   "version": "3.8.5"
  }
 },
 "nbformat": 4,
 "nbformat_minor": 4
}
